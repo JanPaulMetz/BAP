{
 "cells": [
  {
   "cell_type": "code",
   "execution_count": null,
   "metadata": {},
   "outputs": [],
   "source": [
    " \"\"\" Improved runtime \"\"\"\n",
    "            if test_mode == 1:\n",
    "                np_arr = np.fromiter(data_to_process_bits, dtype=bool)\n",
    "                packages = np_arr.reshape(-1, 16)\n",
    "                # ID\n",
    "                ID_test = packages[0,:]\n",
    "                temperature_test = packages[1,:]\n",
    "                print(\"ID:\",ID_test)\n",
    "                print(\"Temperature\", temperature_test)\n",
    "                packages_bit_array = [BitArray(package) for package in packages]\n",
    "                packages_float = [message_to_float(package[2:]) for package in packages_bit_array]\n",
    "                print(\"length\", len(packages_float))\n",
    "                current_ID = packages_float[0]\n",
    "                print(\"ID\", packages_float)\n",
    "                current_temperature = packages_float[1]\n",
    "                time_domain_samples_out = packages_float[2:]"
   ]
  }
 ],
 "metadata": {
  "language_info": {
   "name": "python"
  },
  "orig_nbformat": 4
 },
 "nbformat": 4,
 "nbformat_minor": 2
}
